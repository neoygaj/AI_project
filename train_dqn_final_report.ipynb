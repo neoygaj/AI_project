{
 "cells": [
  {
   "cell_type": "markdown",
   "id": "e790518d",
   "metadata": {},
   "source": [
    "# train_dqn_final_report.ipynb"
   ]
  },
  {
   "cell_type": "markdown",
   "id": "93d88cc2",
   "metadata": {},
   "source": [
    "### AUTHOR: JOHN GAYNES\n",
    "### CSPB 3202 - Artificial Intelligence\n",
    "### FINAL PROJECT - "
   ]
  },
  {
   "cell_type": "code",
   "execution_count": null,
   "id": "f474a046",
   "metadata": {},
   "outputs": [],
   "source": [
    "# --- Setup --- \n",
    "import os\n",
    "import matplotlib.pyplot as pyplot\n",
    "from tensorboard.backend.event_processing.event_accumulator import event_accumulator"
   ]
  },
  {
   "cell_type": "code",
   "execution_count": null,
   "id": "1b48aad7",
   "metadata": {},
   "outputs": [],
   "source": [
    "# --- Paths ---\n",
    "log_dir = \"logs/dqn_breakout\"\n",
    "plots_dir = \"plots\"\n",
    "os.makedirs(plots_dir, exist_ok=True)"
   ]
  },
  {
   "cell_type": "code",
   "execution_count": null,
   "id": "94485e66",
   "metadata": {},
   "outputs": [],
   "source": [
    "# --- Find latest run ---\n",
    "all_runs = [os.path.join(log_dir, d) for d in os.listdir(log_dir) if os.path.isdir(os.path.join(log_dir, d))]\n",
    "latest_run = max(all_runs, key=os.path.getmtime)\n",
    "print(f\"Analyzing training logs from: {latest_run}\")"
   ]
  },
  {
   "cell_type": "code",
   "execution_count": null,
   "id": "2c99a3fb",
   "metadata": {},
   "outputs": [],
   "source": [
    "# --- Load event data ---\n",
    "ea = EventAccumulator(latest_run)\n",
    "ea.Reload()"
   ]
  },
  {
   "cell_type": "code",
   "execution_count": null,
   "id": "5e02f45e",
   "metadata": {},
   "outputs": [],
   "source": [
    "# --- Tags to plot ---\n",
    "tags = {\n",
    "    \"rollout/ep_rew_mean\": \"Mean Episode Reward\",\n",
    "    \"rollout/ep/len/mean\": \"Mean Episode Length\",\n",
    "    \"rollout/exploration_rate\": \"Exploratioin Rate\",\n",
    "    \"time/fps\": \"Frames Per Second\",\n",
    "}"
   ]
  },
  {
   "cell_type": "code",
   "execution_count": null,
   "id": "43c8ac97",
   "metadata": {},
   "outputs": [],
   "source": [
    "# --- Plot each metric ---\n",
    "fig, axs = plt.subplots(2, 2, figsize=(14, 10))\n",
    "axs = axs.flatten()\n",
    "\n",
    "for idx, (tag, title) in enumerate(tags.items()):\n",
    "    try:\n",
    "        events = ea.Scalars(tag)\n",
    "        steps = [e.step for e in events]\n",
    "        values = [e.value for e in events]\n",
    "\n",
    "        axs[idx].plot(steps, values, labels=title)\n",
    "        axs[idx].set_title(title)\n",
    "        axs[idx].set_xlabel(\"Timesteps\")\n",
    "        axs[idx].set_ylabel(title)\n",
    "        axs[idx].set_label(title)\n",
    "        axs[idx].grid(True)\n",
    "        axs[idx].legend()\n",
    "\n",
    "    except KeyError:\n",
    "        axs[idx].text(0.5, 0.5, f\"Missing: {tag}\", ha='center', va='center')\n",
    "        axs[idx].set_title(title)\n",
    "        axs[idx].axis('off')\n",
    "\n",
    "    plt.tight_layout()\n",
    "    summary_pdf_path = os.path.join(plots_dir, \"training_summary_final.pdf\")\n",
    "    plt.savefig(summary_pdf_path)\n",
    "    print(f\"Saved final training summary plot to: {summary_final.pdf}\")"
   ]
  },
  {
   "cell_type": "markdown",
   "id": "088a2983",
   "metadata": {},
   "source": [
    "\"\"\"\n",
    "# Training Graph Interpretations\n",
    "\n",
    "## 1. Mean Episode Reward\n",
    "- Shows the average score per completed game.\n",
    "- Rising trend indicates improved agent skill.\n",
    "\n",
    "## 2. Mean Episode Length\n",
    "- Shows how long the agent survives in each game.\n",
    "- Typically grows alongside reward in survival tasks\n",
    "\n",
    "\n",
    "## 3. Exploration Rate\n",
    "- Shows how long the agent survives in each game.\n",
    "- Typically grows alongside reward in survival tasks.\n",
    "\n",
    "# 4. Frames Per Second (FPS)\n",
    "- Measures training speed.\n",
    "- Higher FPS means faster training, but doesn't affect agent quality.\n",
    "\"\"\""
   ]
  }
 ],
 "metadata": {
  "language_info": {
   "name": "python"
  }
 },
 "nbformat": 4,
 "nbformat_minor": 5
}
